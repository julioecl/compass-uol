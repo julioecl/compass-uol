{
	"cells": [
		{
			"cell_type": "code",
			"execution_count": 1,
			"metadata": {
				"editable": true,
				"trusted": true,
				"vscode": {
					"languageId": "python_glue_session"
				}
			},
			"outputs": [
				{
					"name": "stdout",
					"output_type": "stream",
					"text": [
						"Welcome to the Glue Interactive Sessions Kernel\n",
						"For more information on available magic commands, please type %help in any new cell.\n",
						"\n",
						"Please view our Getting Started page to access the most up-to-date information on the Interactive Sessions kernel: https://docs.aws.amazon.com/glue/latest/dg/interactive-sessions.html\n",
						"Installed kernel version: 0.37.0 \n",
						"Authenticating with environment variables and user-defined glue_role_arn: arn:aws:iam::485679173747:role/AWSGlueServiceRole-Lab4\n",
						"Trying to create a Glue session for the kernel.\n",
						"Worker Type: G.1X\n",
						"Number of Workers: 5\n",
						"Session ID: 63210cae-c128-414c-845a-e2463d58462c\n",
						"Job Type: glueetl\n",
						"Applying the following default arguments:\n",
						"--glue_kernel_version 0.37.0\n",
						"--enable-glue-datacatalog true\n",
						"Waiting for session 63210cae-c128-414c-845a-e2463d58462c to get into ready status...\n",
						"Session 63210cae-c128-414c-845a-e2463d58462c has been created.\n",
						"\n"
					]
				}
			],
			"source": [
				"import sys\n",
				"from awsglue.transforms import *\n",
				"from awsglue.utils import getResolvedOptions\n",
				"from pyspark.context import SparkContext\n",
				"from awsglue.context import GlueContext\n",
				"from awsglue.job import Job\n",
				"\n",
				"sc = SparkContext.getOrCreate()\n",
				"glueContext = GlueContext(sc)\n",
				"spark = glueContext.spark_session\n",
				"job = Job(glueContext)"
			]
		},
		{
			"cell_type": "markdown",
			"metadata": {},
			"source": [
				"\n",
				"- Na célula a seguir, adicione o código necessário para ler o conteúdo do arquivo _nomes.csv_ para um dataframe Spark.\n",
				"\n"
			]
		},
		{
			"cell_type": "code",
			"execution_count": 2,
			"metadata": {
				"trusted": true,
				"vscode": {
					"languageId": "python_glue_session"
				}
			},
			"outputs": [
				{
					"name": "stdout",
					"output_type": "stream",
					"text": [
						"\n"
					]
				}
			],
			"source": [
				"nomes_df = glueContext.create_dynamic_frame_from_options(\n",
				"    connection_type=\"s3\", format=\"csv\",\n",
				"    connection_options={\"paths\": [\"s3://julio-gluelab/lab-glue/input/nomes.csv\"], \"recurse\": True},\n",
				"    format_options={\"withHeader\": True}\n",
				")\n",
				"nomes_df = nomes_df.toDF()\n",
				"nomes_df = nomes_df.withColumn(\"total\", nomes_df[\"total\"].cast(\"int\"))\n",
				"nomes_df = nomes_df.withColumn(\"ano\", nomes_df[\"ano\"].cast(\"int\"))"
			]
		},
		{
			"cell_type": "markdown",
			"metadata": {},
			"source": [
				"- Imprima o esquema do dataframe"
			]
		},
		{
			"cell_type": "code",
			"execution_count": 3,
			"metadata": {
				"trusted": true,
				"vscode": {
					"languageId": "python_glue_session"
				}
			},
			"outputs": [
				{
					"name": "stdout",
					"output_type": "stream",
					"text": [
						"root\n",
						" |-- nome: string (nullable = true)\n",
						" |-- sexo: string (nullable = true)\n",
						" |-- total: integer (nullable = true)\n",
						" |-- ano: integer (nullable = true)\n",
						"\n",
						"+---------+----+-----+----+\n",
						"|     nome|sexo|total| ano|\n",
						"+---------+----+-----+----+\n",
						"| Jennifer|   F|54336|1983|\n",
						"|  Jessica|   F|45278|1983|\n",
						"|   Amanda|   F|33752|1983|\n",
						"|   Ashley|   F|33292|1983|\n",
						"|    Sarah|   F|27228|1983|\n",
						"|  Melissa|   F|23472|1983|\n",
						"|   Nicole|   F|22392|1983|\n",
						"|Stephanie|   F|22323|1983|\n",
						"|  Heather|   F|20749|1983|\n",
						"|Elizabeth|   F|19838|1983|\n",
						"+---------+----+-----+----+\n",
						"only showing top 10 rows\n"
					]
				}
			],
			"source": [
				"nomes_df.printSchema()\n",
				"nomes_df.show(10)"
			]
		},
		{
			"cell_type": "markdown",
			"metadata": {},
			"source": [
				"- Na próxima célula, escreva o código necessário para alterar a caixa dos valores da coluna _nome_ para MAIÚSCULO"
			]
		},
		{
			"cell_type": "code",
			"execution_count": 4,
			"metadata": {
				"trusted": true,
				"vscode": {
					"languageId": "python_glue_session"
				}
			},
			"outputs": [
				{
					"name": "stdout",
					"output_type": "stream",
					"text": [
						"+---------+----+-----+----+\n",
						"|     nome|sexo|total| ano|\n",
						"+---------+----+-----+----+\n",
						"| JENNIFER|   F|54336|1983|\n",
						"|  JESSICA|   F|45278|1983|\n",
						"|   AMANDA|   F|33752|1983|\n",
						"|   ASHLEY|   F|33292|1983|\n",
						"|    SARAH|   F|27228|1983|\n",
						"|  MELISSA|   F|23472|1983|\n",
						"|   NICOLE|   F|22392|1983|\n",
						"|STEPHANIE|   F|22323|1983|\n",
						"|  HEATHER|   F|20749|1983|\n",
						"|ELIZABETH|   F|19838|1983|\n",
						"|  CRYSTAL|   F|17904|1983|\n",
						"|      AMY|   F|17095|1983|\n",
						"| MICHELLE|   F|16828|1983|\n",
						"|  TIFFANY|   F|15960|1983|\n",
						"| KIMBERLY|   F|15374|1983|\n",
						"|CHRISTINA|   F|15359|1983|\n",
						"|    AMBER|   F|14886|1983|\n",
						"|     ERIN|   F|14835|1983|\n",
						"|  REBECCA|   F|14711|1983|\n",
						"|   RACHEL|   F|14588|1983|\n",
						"+---------+----+-----+----+\n",
						"only showing top 20 rows\n"
					]
				}
			],
			"source": [
				"import pyspark.sql.functions as func\n",
				"nomes_upper_df = nomes_df.withColumn(\"nome\", func.upper(func.col(\"nome\")))\n",
				"nomes_upper_df.show()"
			]
		},
		{
			"cell_type": "markdown",
			"metadata": {},
			"source": [
				"- Apresente a contagem de linhas contidas no dataframe"
			]
		},
		{
			"cell_type": "code",
			"execution_count": 16,
			"metadata": {
				"trusted": true,
				"vscode": {
					"languageId": "python_glue_session"
				}
			},
			"outputs": [
				{
					"name": "stdout",
					"output_type": "stream",
					"text": [
						"1825433\n"
					]
				}
			],
			"source": [
				"nomes_df.count()"
			]
		},
		{
			"cell_type": "markdown",
			"metadata": {},
			"source": [
				"- Agora, apresente a contagem de nomes, agrupando os dados do dataframe pelas colunas _ano_ e _sexo_. Ordene os dados de modo que o ano mais recente aparece como primeiro registro do dataframe."
			]
		},
		{
			"cell_type": "code",
			"execution_count": 17,
			"metadata": {
				"trusted": true,
				"vscode": {
					"languageId": "python_glue_session"
				}
			},
			"outputs": [
				{
					"name": "stdout",
					"output_type": "stream",
					"text": [
						"+----+----+-----+\n",
						"| ano|sexo|count|\n",
						"+----+----+-----+\n",
						"|2014|   F|19067|\n",
						"|2014|   M|13977|\n",
						"|2013|   F|19191|\n",
						"|2013|   M|14012|\n",
						"|2012|   M|14216|\n",
						"|2012|   F|19468|\n",
						"|2011|   F|19540|\n",
						"|2011|   M|14329|\n",
						"|2010|   M|14241|\n",
						"|2010|   F|19800|\n",
						"|2009|   M|14519|\n",
						"|2009|   F|20165|\n",
						"|2008|   F|20439|\n",
						"|2008|   M|14606|\n",
						"|2007|   F|20548|\n",
						"|2007|   M|14383|\n",
						"|2006|   F|20043|\n",
						"|2006|   M|14026|\n",
						"|2005|   F|19175|\n",
						"|2005|   M|13358|\n",
						"+----+----+-----+\n",
						"only showing top 20 rows\n"
					]
				}
			],
			"source": [
				"nomes_df.groupBy(\"ano\",\"sexo\").count().orderBy(\"ano\", ascending=False).show()"
			]
		},
		{
			"cell_type": "markdown",
			"metadata": {},
			"source": [
				"- Qual foi o nome feminino com mais registro e em que ano?"
			]
		},
		{
			"cell_type": "code",
			"execution_count": 18,
			"metadata": {
				"trusted": true,
				"vscode": {
					"languageId": "python_glue_session"
				}
			},
			"outputs": [
				{
					"name": "stdout",
					"output_type": "stream",
					"text": [
						"+-----+----+\n",
						"| nome| ano|\n",
						"+-----+----+\n",
						"|Linda|1947|\n",
						"+-----+----+\n",
						"only showing top 1 row\n"
					]
				}
			],
			"source": [
				"nomes_df.select(\"nome\",\"ano\").where(\"sexo == 'F'\").orderBy(\"total\", ascending=False).show(1)"
			]
		},
		{
			"cell_type": "markdown",
			"metadata": {},
			"source": [
				"- Qual foi o nome masculino com mais registro e em que ano?"
			]
		},
		{
			"cell_type": "code",
			"execution_count": 19,
			"metadata": {
				"trusted": true,
				"vscode": {
					"languageId": "python_glue_session"
				}
			},
			"outputs": [
				{
					"name": "stdout",
					"output_type": "stream",
					"text": [
						"+-----+----+\n",
						"| nome| ano|\n",
						"+-----+----+\n",
						"|James|1947|\n",
						"+-----+----+\n",
						"only showing top 1 row\n"
					]
				}
			],
			"source": [
				"nomes_df.select(\"nome\",\"ano\").where(\"sexo == 'M'\").orderBy(\"total\", ascending=False).show(1)"
			]
		},
		{
			"cell_type": "markdown",
			"metadata": {},
			"source": [
				"- Apresente o total de registros (masculinos e femininos) para cada ano presente no dataframe. Considere apenas as primeiras 10 linhas, ordenadas pelo ano, de forma crescente."
			]
		},
		{
			"cell_type": "code",
			"execution_count": 20,
			"metadata": {
				"trusted": true,
				"vscode": {
					"languageId": "python_glue_session"
				}
			},
			"outputs": [
				{
					"name": "stdout",
					"output_type": "stream",
					"text": [
						"+----+----+-----+\n",
						"|sexo| ano|count|\n",
						"+----+----+-----+\n",
						"|   M|1880| 1058|\n",
						"|   F|1880|  942|\n",
						"|   F|1881|  938|\n",
						"|   M|1881|  997|\n",
						"|   M|1882| 1099|\n",
						"|   F|1882| 1028|\n",
						"|   F|1883| 1054|\n",
						"|   M|1883| 1030|\n",
						"|   F|1884| 1172|\n",
						"|   M|1884| 1125|\n",
						"+----+----+-----+\n",
						"only showing top 10 rows\n"
					]
				}
			],
			"source": [
				"nomes_df.select(\"nome\", \"sexo\", \"ano\").groupBy(\"sexo\", \"ano\").count().orderBy(\"ano\").show(10)"
			]
		},
		{
			"cell_type": "markdown",
			"metadata": {},
			"source": [
				"- Escreva o conteúdo do dataframe com os valores de nome em maiúsculo no S3. Atenção aos requisitos:\n",
				"  - A gravação deve ocorrer no subdiretório _frequencia_registro_nomes_eua_ do path s3://\\<BUCKET\\>/lab-glue/\n",
				"  - O formato deve ser JSON\n",
				"  - O particionamento deverá ser realizado pelas colunas _sexo_ e _ano_ (nesta ordem)"
			]
		},
		{
			"cell_type": "code",
			"execution_count": 15,
			"metadata": {
				"trusted": true,
				"vscode": {
					"languageId": "python_glue_session"
				}
			},
			"outputs": [
				{
					"name": "stdout",
					"output_type": "stream",
					"text": [
						"\n"
					]
				}
			],
			"source": [
				"nomes_upper_df.write.partitionBy([\"sexo\", \"ano\"]).format(\"json\").mode(\"overwrite\").save(\"s3://julio-gluelab/lab-glue/frequencia_registro_nomes_eua/\")"
			]
		},
		{
			"cell_type": "code",
			"execution_count": 21,
			"metadata": {
				"trusted": true,
				"vscode": {
					"languageId": "python_glue_session"
				}
			},
			"outputs": [
				{
					"name": "stdout",
					"output_type": "stream",
					"text": [
						"\n"
					]
				}
			],
			"source": [
				"job.commit()"
			]
		}
	],
	"metadata": {
		"kernelspec": {
			"display_name": "Glue PySpark",
			"language": "python",
			"name": "glue_pyspark"
		},
		"language_info": {
			"codemirror_mode": {
				"name": "python",
				"version": 3
			},
			"file_extension": ".py",
			"mimetype": "text/x-python",
			"name": "Python_Glue_Session",
			"pygments_lexer": "python3"
		},
		"toc-autonumbering": false,
		"toc-showcode": true,
		"toc-showmarkdowntxt": false,
		"toc-showtags": false
	},
	"nbformat": 4,
	"nbformat_minor": 4
}
